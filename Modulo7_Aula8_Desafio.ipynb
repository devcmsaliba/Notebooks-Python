{
  "nbformat": 4,
  "nbformat_minor": 0,
  "metadata": {
    "colab": {
      "provenance": []
    },
    "kernelspec": {
      "name": "python3",
      "display_name": "Python 3"
    },
    "language_info": {
      "name": "python"
    }
  },
  "cells": [
    {
      "cell_type": "markdown",
      "source": [
        "GERAR TABUADA:\n",
        "\n",
        "Desenvolva um gerador de tabuada, capaz de gerar a tabuada de qualquer número inteiro entre 1 a 10. O usuário deve informar de qual número ele deseja ver a tabuada.\n",
        "\n",
        "Lembre-se de que você já conhece o nível intermediário da linguagem de programação Python, além de conhecer como automatizar dados por meio da programação funcional e programação orientada a objetos."
      ],
      "metadata": {
        "id": "GDw2fQZmwsRP"
      }
    },
    {
      "cell_type": "code",
      "source": [
        "def gerar_tabuada(numero: int):\n",
        "  print(f'tabuada de {numero}:')\n",
        "  for i in range (0, 11):\n",
        "    print(f'{numero} x {i} = {numero * i}')\n",
        "\n",
        "try:\n",
        "  numero = int(input('Informe de qual número entre 1 e 10 você deseja ver a tabuada?'))\n",
        "  if 1 <= numero <= 10:\n",
        "    gerar_tabuada(numero)\n",
        "  else:\n",
        "    print('Por favor, digite um número entre 1 e 10: ')\n",
        "except ValueError:\n",
        "  print('Número não aceito. Por favor, digite um número inteiro entre 1 e 10: ')"
      ],
      "metadata": {
        "colab": {
          "base_uri": "https://localhost:8080/"
        },
        "id": "W0RhWsNVydpQ",
        "outputId": "bfe50157-9d73-4a1d-e707-b938d383f443"
      },
      "execution_count": 18,
      "outputs": [
        {
          "output_type": "stream",
          "name": "stdout",
          "text": [
            "Informe de qual número entre 1 e 10 você deseja ver a tabuada?7\n",
            "tabuada de 7:\n",
            "7 x 0 = 0\n",
            "7 x 1 = 7\n",
            "7 x 2 = 14\n",
            "7 x 3 = 21\n",
            "7 x 4 = 28\n",
            "7 x 5 = 35\n",
            "7 x 6 = 42\n",
            "7 x 7 = 49\n",
            "7 x 8 = 56\n",
            "7 x 9 = 63\n",
            "7 x 10 = 70\n"
          ]
        }
      ]
    }
  ]
}