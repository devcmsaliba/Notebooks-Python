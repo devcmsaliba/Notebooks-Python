{
  "nbformat": 4,
  "nbformat_minor": 0,
  "metadata": {
    "colab": {
      "provenance": [],
      "toc_visible": true
    },
    "kernelspec": {
      "name": "python3",
      "display_name": "Python 3"
    }
  },
  "cells": [
    {
      "cell_type": "markdown",
      "metadata": {
        "id": "KJqp9AANOCtf"
      },
      "source": [
        "<img src=\"https://raw.githubusercontent.com/andre-marcos-perez/ebac-course-utils/main/media/logo/newebac_logo_black_half.png\" alt=\"ebac-logo\">\n",
        "\n",
        "---\n",
        "\n",
        "# **Módulo** | Python: Estruturas de Dados\n",
        "Caderno de **Exercícios**<br>\n",
        "Professor [André Perez](https://www.linkedin.com/in/andremarcosperez/)\n",
        "\n",
        "---"
      ]
    },
    {
      "cell_type": "markdown",
      "metadata": {
        "id": "d9jDtUbDOE1-"
      },
      "source": [
        "# **Tópicos**\n",
        "\n",
        "<ol type=\"1\">\n",
        "  <li>Listas;</li>\n",
        "  <li>Conjuntos;</li>\n",
        "  <li>Dicionários.</li>\n",
        "</ol>"
      ]
    },
    {
      "cell_type": "markdown",
      "metadata": {
        "id": "SmoHgt-lwkpD"
      },
      "source": [
        "---"
      ]
    },
    {
      "cell_type": "markdown",
      "metadata": {
        "id": "GABI6OW8OfQ2"
      },
      "source": [
        "# **Exercícios**"
      ]
    },
    {
      "cell_type": "markdown",
      "metadata": {
        "id": "muD1vxozykSC"
      },
      "source": [
        "## 1\\. Listas"
      ]
    },
    {
      "cell_type": "markdown",
      "metadata": {
        "id": "ahrFfCuBxJKs"
      },
      "source": [
        "Criei uma lista chamada `filmes` com o nome dos 10 primeiros filmes mais bem avaliados no site no [IMDB](https://www.imdb.com/chart/top/). Imprima o resultado."
      ]
    },
    {
      "cell_type": "code",
      "metadata": {
        "id": "OgL6Hv3bzOHI",
        "colab": {
          "base_uri": "https://localhost:8080/"
        },
        "outputId": "f9d82213-d127-401b-c0f5-58ecf0ca3324"
      },
      "source": [
        "filmes = [\n",
        "    \"Um Sonho de Liberdade\",\n",
        "    \"O Poderoso Chefão\",\n",
        "    \"Batman: O Cavaleiro das Trevas\",\n",
        "    \"O Poderoso Chefão II\",\n",
        "    \"12 Homens e uma Sentença\",\n",
        "    \"A Lista de Schindler\",\n",
        "    \"O Senhor dos Anéis: O Retorno do Rei\",\n",
        "    \"Pulp Fiction: Tempo de Violência\",\n",
        "    \"O Senhor dos Anéis: A Sociedade do Anel\",\n",
        "    \"Três Homens em Conflito\"\n",
        "]\n",
        "\n",
        "# Exibindo os filmes como ranking\n",
        "print(\"Ranking dos filmes mais bem avaliados no IMDb:\")\n",
        "for i, filme in enumerate(filmes, start=1):\n",
        "    print(f\"{i}. {filme}\")"
      ],
      "execution_count": 54,
      "outputs": [
        {
          "output_type": "stream",
          "name": "stdout",
          "text": [
            "Ranking dos filmes mais bem avaliados no IMDb:\n",
            "1. Um Sonho de Liberdade\n",
            "2. O Poderoso Chefão\n",
            "3. Batman: O Cavaleiro das Trevas\n",
            "4. O Poderoso Chefão II\n",
            "5. 12 Homens e uma Sentença\n",
            "6. A Lista de Schindler\n",
            "7. O Senhor dos Anéis: O Retorno do Rei\n",
            "8. Pulp Fiction: Tempo de Violência\n",
            "9. O Senhor dos Anéis: A Sociedade do Anel\n",
            "10. Três Homens em Conflito\n"
          ]
        }
      ]
    },
    {
      "cell_type": "markdown",
      "metadata": {
        "id": "KI9zQRT2xa7m"
      },
      "source": [
        "Simule a movimentação do *ranking*. Utilize os métodos `insert` e `pop` para trocar a posição do primeiro e do segundo filme da lista. Imprima o resultado.\n",
        "\n"
      ]
    },
    {
      "cell_type": "code",
      "metadata": {
        "id": "zX3mA3_GzrXH",
        "colab": {
          "base_uri": "https://localhost:8080/"
        },
        "outputId": "83ca5266-cda0-4e3a-bb17-a555b82e8148"
      },
      "source": [
        "filmes = [\n",
        "    \"Um Sonho de Liberdade\",\n",
        "    \"O Poderoso Chefão\",\n",
        "    \"Batman: O Cavaleiro das Trevas\",\n",
        "    \"O Poderoso Chefão II\",\n",
        "    \"12 Homens e uma Sentença\",\n",
        "    \"A Lista de Schindler\",\n",
        "    \"O Senhor dos Anéis: O Retorno do Rei\",\n",
        "    \"Pulp Fiction: Tempo de Violência\",\n",
        "    \"O Senhor dos Anéis: A Sociedade do Anel\",\n",
        "    \"Três Homens em Conflito\"\n",
        "]\n",
        "\n",
        "# Simulando a movimentação no ranking\n",
        "# Remove o primeiro filme e insere na segunda posição\n",
        "filme1 = filmes.pop(0)  # Remove o filme da posição 0\n",
        "filmes.insert(1, filme1)  # Insere o filme na posição 1\n",
        "\n",
        "# Remove o segundo filme (agora na posição 1) e insere na primeira posição\n",
        "filme2= filmes.pop(0)  # Remove o filme da posição 0 novamente\n",
        "filmes.insert(0, filme2)  # Insere o filme na posição 0\n",
        "\n",
        "# Exibindo o novo ranking\n",
        "print(\"Novo ranking dos filmes:\")\n",
        "for i, filme in enumerate(filmes, start=1):\n",
        "    print(f\"{i}. {filme}\")"
      ],
      "execution_count": 57,
      "outputs": [
        {
          "output_type": "stream",
          "name": "stdout",
          "text": [
            "Novo ranking dos filmes:\n",
            "1. O Poderoso Chefão\n",
            "2. Um Sonho de Liberdade\n",
            "3. Batman: O Cavaleiro das Trevas\n",
            "4. O Poderoso Chefão II\n",
            "5. 12 Homens e uma Sentença\n",
            "6. A Lista de Schindler\n",
            "7. O Senhor dos Anéis: O Retorno do Rei\n",
            "8. Pulp Fiction: Tempo de Violência\n",
            "9. O Senhor dos Anéis: A Sociedade do Anel\n",
            "10. Três Homens em Conflito\n"
          ]
        }
      ]
    },
    {
      "cell_type": "markdown",
      "metadata": {
        "id": "zMN1Q3jdwoJm"
      },
      "source": [
        "---"
      ]
    },
    {
      "cell_type": "markdown",
      "metadata": {
        "id": "lxa5L6uF0ZJE"
      },
      "source": [
        "## 2\\. Conjuntos"
      ]
    },
    {
      "cell_type": "markdown",
      "metadata": {
        "id": "9JahS2Kj0d5u"
      },
      "source": [
        "Aconteceu um erro no seu *ranking*. Simule a duplicação dos três últimos filmes da lista. Imprima o resultado."
      ]
    },
    {
      "cell_type": "code",
      "metadata": {
        "id": "BnjnLBNC6PGe",
        "colab": {
          "base_uri": "https://localhost:8080/"
        },
        "outputId": "276048ae-dc72-40e9-d356-fbc9b2a39a9b"
      },
      "source": [
        "filmes = [\n",
        "    \"Um Sonho de Liberdade\",\n",
        "    \"O Poderoso Chefão\",\n",
        "    \"Batman: O Cavaleiro das Trevas\",\n",
        "    \"O Poderoso Chefão II\",\n",
        "    \"12 Homens e uma Sentença\",\n",
        "    \"A Lista de Schindler\",\n",
        "    \"O Senhor dos Anéis: O Retorno do Rei\",\n",
        "    \"Pulp Fiction: Tempo de Violência\",\n",
        "    \"O Senhor dos Anéis: A Sociedade do Anel\",\n",
        "    \"Três Homens em Conflito\"\n",
        "]\n",
        "\n",
        "# Simulando a duplicação dos três últimos filmes\n",
        "filmes.extend(filmes[-3:])  # Adiciona os três últimos filmes ao final da lista\n",
        "\n",
        "# Exibindo o resultado\n",
        "print(\"Lista de filmes após duplicação dos três últimos:\")\n",
        "for i, filme in enumerate(filmes, start=1):\n",
        "    print(f\"{i}. {filme}\")"
      ],
      "execution_count": 58,
      "outputs": [
        {
          "output_type": "stream",
          "name": "stdout",
          "text": [
            "Lista de filmes após duplicação dos três últimos:\n",
            "1. Um Sonho de Liberdade\n",
            "2. O Poderoso Chefão\n",
            "3. Batman: O Cavaleiro das Trevas\n",
            "4. O Poderoso Chefão II\n",
            "5. 12 Homens e uma Sentença\n",
            "6. A Lista de Schindler\n",
            "7. O Senhor dos Anéis: O Retorno do Rei\n",
            "8. Pulp Fiction: Tempo de Violência\n",
            "9. O Senhor dos Anéis: A Sociedade do Anel\n",
            "10. Três Homens em Conflito\n",
            "11. Pulp Fiction: Tempo de Violência\n",
            "12. O Senhor dos Anéis: A Sociedade do Anel\n",
            "13. Três Homens em Conflito\n"
          ]
        }
      ]
    },
    {
      "cell_type": "markdown",
      "metadata": {
        "id": "suxTfCJB6ZiX"
      },
      "source": [
        "Utiliza a conversão `set` e `list` para remover os valores duplicados. Imprima o resultado."
      ]
    },
    {
      "cell_type": "code",
      "metadata": {
        "id": "ZvUGN-0n6joM",
        "colab": {
          "base_uri": "https://localhost:8080/"
        },
        "outputId": "3b108a94-0f4f-456a-bc5d-1667a8f6262a"
      },
      "source": [
        "filmes = [\n",
        "    \"Um Sonho de Liberdade\",\n",
        "    \"O Poderoso Chefão\",\n",
        "    \"Batman: O Cavaleiro das Trevas\",\n",
        "    \"O Poderoso Chefão II\",\n",
        "    \"12 Homens e uma Sentença\",\n",
        "    \"A Lista de Schindler\",\n",
        "    \"O Senhor dos Anéis: O Retorno do Rei\",\n",
        "    \"Pulp Fiction: Tempo de Violência\",\n",
        "    \"O Senhor dos Anéis: A Sociedade do Anel\",\n",
        "    \"Três Homens em Conflito\",\n",
        "    \"Pulp Fiction: Tempo de Violência\",\n",
        "    \"O Senhor dos Anéis: A Sociedade do Anel\",\n",
        "    \"Três Homens em Conflito\"\n",
        "]\n",
        "\n",
        "# Removendo os valores duplicados usando set e list\n",
        "filmes_unicos = list(set(filmes))\n",
        "\n",
        "# Exibindo o resultado\n",
        "print(\"Lista de filmes após remoção dos duplicados:\")\n",
        "for i, filme in enumerate(filmes_unicos, start=1):\n",
        "    print(f\"{i}. {filme}\")\n",
        "\n",
        "# Mantendo a ordem\n",
        "filmes = [\n",
        "    \"Um Sonho de Liberdade\",\n",
        "    \"O Poderoso Chefão\",\n",
        "    \"Batman: O Cavaleiro das Trevas\",\n",
        "    \"O Poderoso Chefão II\",\n",
        "    \"12 Homens e uma Sentença\",\n",
        "    \"A Lista de Schindler\",\n",
        "    \"O Senhor dos Anéis: O Retorno do Rei\",\n",
        "    \"Pulp Fiction: Tempo de Violência\",\n",
        "    \"O Senhor dos Anéis: A Sociedade do Anel\",\n",
        "    \"Três Homens em Conflito\",\n",
        "    \"Pulp Fiction: Tempo de Violência\",\n",
        "    \"O Senhor dos Anéis: A Sociedade do Anel\",\n",
        "    \"Três Homens em Conflito\"\n",
        "]\n",
        "\n",
        "# Removendo os valores duplicados mantendo a ordem original\n",
        "filmes_unicos = []\n",
        "for filme in filmes:\n",
        "    if filme not in filmes_unicos:\n",
        "        filmes_unicos.append(filme)\n",
        "\n",
        "# Exibindo o resultado\n",
        "print(\"Lista de filmes após remoção dos duplicados (mantendo a ordem):\")\n",
        "for i, filme in enumerate(filmes_unicos, start=1):\n",
        "    print(f\"{i}. {filme}\")"
      ],
      "execution_count": 60,
      "outputs": [
        {
          "output_type": "stream",
          "name": "stdout",
          "text": [
            "Lista de filmes após remoção dos duplicados:\n",
            "1. A Lista de Schindler\n",
            "2. Três Homens em Conflito\n",
            "3. Um Sonho de Liberdade\n",
            "4. O Poderoso Chefão\n",
            "5. Batman: O Cavaleiro das Trevas\n",
            "6. 12 Homens e uma Sentença\n",
            "7. O Senhor dos Anéis: A Sociedade do Anel\n",
            "8. O Poderoso Chefão II\n",
            "9. Pulp Fiction: Tempo de Violência\n",
            "10. O Senhor dos Anéis: O Retorno do Rei\n",
            "Lista de filmes após remoção dos duplicados (mantendo a ordem):\n",
            "1. Um Sonho de Liberdade\n",
            "2. O Poderoso Chefão\n",
            "3. Batman: O Cavaleiro das Trevas\n",
            "4. O Poderoso Chefão II\n",
            "5. 12 Homens e uma Sentença\n",
            "6. A Lista de Schindler\n",
            "7. O Senhor dos Anéis: O Retorno do Rei\n",
            "8. Pulp Fiction: Tempo de Violência\n",
            "9. O Senhor dos Anéis: A Sociedade do Anel\n",
            "10. Três Homens em Conflito\n"
          ]
        }
      ]
    },
    {
      "cell_type": "markdown",
      "metadata": {
        "id": "ShkK35eQ6pAM"
      },
      "source": [
        "---"
      ]
    },
    {
      "cell_type": "markdown",
      "metadata": {
        "id": "EL_FzmxL6rTv"
      },
      "source": [
        "## 3\\. Dicionários"
      ]
    },
    {
      "cell_type": "markdown",
      "metadata": {
        "id": "i8l0gFqRCpfT"
      },
      "source": [
        "Repita os exercícios da parte 1 (listas). Os elementos da lista `filmes` devem ser dicionários no seguinte formato: `{'nome': <nome-do-filme>, 'ano': <ano do filme>, 'sinopse': <sinopse do filme>}`."
      ]
    },
    {
      "cell_type": "code",
      "metadata": {
        "id": "tu6MSFwGDnHv",
        "colab": {
          "base_uri": "https://localhost:8080/"
        },
        "outputId": "013cb2e6-bea0-4b56-85b6-5e3901784554"
      },
      "source": [
        "# Lista de filmes como dicionários\n",
        "filmes = [\n",
        "    {'nome': 'Um Sonho de Liberdade', 'ano': 1994, 'sinopse': 'Dois homens condenados à prisão fazem amizade ao longo de muitos anos, encontrando maneiras de sobreviver dentro do sistema prisional.'},\n",
        "    {'nome': 'O Poderoso Chefão', 'ano': 1972, 'sinopse': 'A história da família mafiosa Corleone, com foco no patriarca Vito e seu filho Michael, enquanto eles tentam manter o poder.'},\n",
        "    {'nome': 'Batman: O Cavaleiro das Trevas', 'ano': 2008, 'sinopse': 'Batman enfrenta o criminoso psicótico Coringa, que deseja mergulhar Gotham City na anarquia.'},\n",
        "    {'nome': 'O Poderoso Chefão II', 'ano': 1974, 'sinopse': 'A continuação da história da família Corleone, focando nas escolhas de Michael Corleone enquanto ele assume o controle do império da máfia.'},\n",
        "    {'nome': '12 Homens e uma Sentença', 'ano': 1957, 'sinopse': 'Doze jurados devem decidir o destino de um jovem acusado de assassinato, e sua discussão se torna uma batalha de moral e preconceito.'},\n",
        "    {'nome': 'A Lista de Schindler', 'ano': 1993, 'sinopse': 'A história real de Oskar Schindler, um empresário alemão que salva centenas de judeus durante o Holocausto.'},\n",
        "    {'nome': 'O Senhor dos Anéis: O Retorno do Rei', 'ano': 2003, 'sinopse': 'Frodo e Sam enfrentam os últimos desafios enquanto a batalha final pela Terra-média ocorre.'},\n",
        "    {'nome': 'Pulp Fiction: Tempo de Violência', 'ano': 1994, 'sinopse': 'Uma narrativa não linear que mistura várias histórias interconectadas sobre crime e vingança.'},\n",
        "    {'nome': 'O Senhor dos Anéis: A Sociedade do Anel', 'ano': 2001, 'sinopse': 'Frodo e um grupo de heróis tentam destruir um anel mágico e impedir que um senhor do mal controle o mundo.'},\n",
        "    {'nome': 'Três Homens em Conflito', 'ano': 1966, 'sinopse': 'Um duelo épico entre três pistoleiros em busca de um tesouro perdido durante a Guerra Civil Americana.'}\n",
        "]\n",
        "\n",
        "# Exibindo a lista de filmes com suas informações\n",
        "print(\"Lista de filmes:\")\n",
        "for i, filme in enumerate(filmes, start=1):\n",
        "    print(f\"{i}. {filme['nome']} ({filme['ano']}) - {filme['sinopse']}\")"
      ],
      "execution_count": 61,
      "outputs": [
        {
          "output_type": "stream",
          "name": "stdout",
          "text": [
            "Lista de filmes:\n",
            "1. Um Sonho de Liberdade (1994) - Dois homens condenados à prisão fazem amizade ao longo de muitos anos, encontrando maneiras de sobreviver dentro do sistema prisional.\n",
            "2. O Poderoso Chefão (1972) - A história da família mafiosa Corleone, com foco no patriarca Vito e seu filho Michael, enquanto eles tentam manter o poder.\n",
            "3. Batman: O Cavaleiro das Trevas (2008) - Batman enfrenta o criminoso psicótico Coringa, que deseja mergulhar Gotham City na anarquia.\n",
            "4. O Poderoso Chefão II (1974) - A continuação da história da família Corleone, focando nas escolhas de Michael Corleone enquanto ele assume o controle do império da máfia.\n",
            "5. 12 Homens e uma Sentença (1957) - Doze jurados devem decidir o destino de um jovem acusado de assassinato, e sua discussão se torna uma batalha de moral e preconceito.\n",
            "6. A Lista de Schindler (1993) - A história real de Oskar Schindler, um empresário alemão que salva centenas de judeus durante o Holocausto.\n",
            "7. O Senhor dos Anéis: O Retorno do Rei (2003) - Frodo e Sam enfrentam os últimos desafios enquanto a batalha final pela Terra-média ocorre.\n",
            "8. Pulp Fiction: Tempo de Violência (1994) - Uma narrativa não linear que mistura várias histórias interconectadas sobre crime e vingança.\n",
            "9. O Senhor dos Anéis: A Sociedade do Anel (2001) - Frodo e um grupo de heróis tentam destruir um anel mágico e impedir que um senhor do mal controle o mundo.\n",
            "10. Três Homens em Conflito (1966) - Um duelo épico entre três pistoleiros em busca de um tesouro perdido durante a Guerra Civil Americana.\n"
          ]
        }
      ]
    }
  ]
}