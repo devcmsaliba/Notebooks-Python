{
  "nbformat": 4,
  "nbformat_minor": 0,
  "metadata": {
    "colab": {
      "provenance": []
    },
    "kernelspec": {
      "name": "python3",
      "display_name": "Python 3"
    },
    "language_info": {
      "name": "python"
    }
  },
  "cells": [
    {
      "cell_type": "markdown",
      "source": [
        "Desafio:\n",
        "\n",
        "Faça um programa que calcule o valor total investido por um colecionador em sua coleção de CDs e o valor médio gasto em cada um deles. O usuário deverá informar a quantidade de CDs e o valor para cada um.\n",
        "\n",
        "Lembre-se de que você já tem a habilidade de desenvolver variáveis, estruturar dados, criar condições, repetições e funções.\n",
        "\n",
        "Após resolver o desafio, preencha o checklist a seguir."
      ],
      "metadata": {
        "id": "uVjZ5rzE-AkZ"
      }
    },
    {
      "cell_type": "code",
      "execution_count": 1,
      "metadata": {
        "colab": {
          "base_uri": "https://localhost:8080/"
        },
        "id": "Qp9KszfZ9-dz",
        "outputId": "c4716739-78c9-4a26-8762-a05c52b8b393"
      },
      "outputs": [
        {
          "output_type": "stream",
          "name": "stdout",
          "text": [
            "Insira a quantidade de CD's 2\n",
            "Insira o valor do CD 1: $ 10\n",
            "Insira o valor do CD 2: $ 6\n",
            "Valor total investido: $ 16.0\n",
            "Valor médio investido: $ 8.0\n"
          ]
        }
      ],
      "source": [
        "def calculo_valor_total():\n",
        "\n",
        "  quantidade_cds = int(input(\"Insira a quantidade de CD's \" ))\n",
        "\n",
        "  valor_total = 0\n",
        "\n",
        "  for i in range(quantidade_cds):\n",
        "\n",
        "    valor_total += float(input(f\"Insira o valor do CD {i+1}: $ \"))\n",
        "\n",
        "    valor_medio_cds = valor_total / quantidade_cds\n",
        "\n",
        "  return valor_total, valor_medio_cds\n",
        "\n",
        "valor_total, valor_medio_cds = calculo_valor_total()\n",
        "\n",
        "print(\"Valor total investido: $\", valor_total)\n",
        "\n",
        "print(\"Valor médio investido: $\", valor_medio_cds)"
      ]
    }
  ]
}